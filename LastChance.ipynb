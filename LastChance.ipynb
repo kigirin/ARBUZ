{
 "cells": [
  {
   "cell_type": "markdown",
   "metadata": {
    "id": "4EVykovjQHqt"
   },
   "source": [
    "#Data Preparation"
   ]
  },
  {
   "cell_type": "code",
   "execution_count": 1,
   "metadata": {
    "id": "KMuHigqpQMqC"
   },
   "outputs": [],
   "source": [
    "import pandas as pd\n",
    "import numpy as np\n",
    "from sklearn.neighbors import KNeighborsClassifier\n",
    "import matplotlib.pyplot as plt"
   ]
  },
  {
   "cell_type": "code",
   "execution_count": 20,
   "metadata": {},
   "outputs": [
    {
     "name": "stdout",
     "output_type": "stream",
     "text": [
      "Defaulting to user installation because normal site-packages is not writeable\n",
      "Collecting xgboost\n",
      "  Downloading xgboost-1.7.1-py3-none-win_amd64.whl (89.1 MB)\n",
      "     ---------------------------------------- 89.1/89.1 MB 1.1 MB/s eta 0:00:00\n",
      "Requirement already satisfied: scipy in d:\\applications\\anaconda\\lib\\site-packages (from xgboost) (1.9.1)\n",
      "Requirement already satisfied: numpy in d:\\applications\\anaconda\\lib\\site-packages (from xgboost) (1.21.5)\n",
      "Installing collected packages: xgboost\n",
      "Successfully installed xgboost-1.7.1\n"
     ]
    }
   ],
   "source": []
  },
  {
   "cell_type": "markdown",
   "metadata": {
    "id": "vC6_TeSrtYmd"
   },
   "source": [
    "#Train"
   ]
  },
  {
   "cell_type": "code",
   "execution_count": 2,
   "metadata": {
    "colab": {
     "base_uri": "https://localhost:8080/",
     "height": 300
    },
    "id": "oIbFhTYcQxv1",
    "outputId": "9e9e99c3-4c99-416e-db11-4aab2840e26f"
   },
   "outputs": [
    {
     "data": {
      "text/html": [
       "<div>\n",
       "<style scoped>\n",
       "    .dataframe tbody tr th:only-of-type {\n",
       "        vertical-align: middle;\n",
       "    }\n",
       "\n",
       "    .dataframe tbody tr th {\n",
       "        vertical-align: top;\n",
       "    }\n",
       "\n",
       "    .dataframe thead th {\n",
       "        text-align: right;\n",
       "    }\n",
       "</style>\n",
       "<table border=\"1\" class=\"dataframe\">\n",
       "  <thead>\n",
       "    <tr style=\"text-align: right;\">\n",
       "      <th></th>\n",
       "      <th>client_id</th>\n",
       "      <th>average_check</th>\n",
       "      <th>number_orders</th>\n",
       "      <th>average_score</th>\n",
       "      <th>items_per_order</th>\n",
       "      <th>is_friend</th>\n",
       "      <th>last_check</th>\n",
       "      <th>last_score</th>\n",
       "      <th>last_scored_after_order_days</th>\n",
       "      <th>last_late_by_minutes</th>\n",
       "      <th>...</th>\n",
       "      <th>items_share_category_19</th>\n",
       "      <th>items_share_category_20</th>\n",
       "      <th>items_share_category_21</th>\n",
       "      <th>items_share_category_22</th>\n",
       "      <th>items_share_category_23</th>\n",
       "      <th>items_share_category_24</th>\n",
       "      <th>items_share_category_25</th>\n",
       "      <th>items_share_category_26</th>\n",
       "      <th>items_share_category_27</th>\n",
       "      <th>is_churn</th>\n",
       "    </tr>\n",
       "  </thead>\n",
       "  <tbody>\n",
       "    <tr>\n",
       "      <th>0</th>\n",
       "      <td>301</td>\n",
       "      <td>49300</td>\n",
       "      <td>7</td>\n",
       "      <td>10.0</td>\n",
       "      <td>23.4286</td>\n",
       "      <td>0</td>\n",
       "      <td>9250.0</td>\n",
       "      <td>NaN</td>\n",
       "      <td>NaN</td>\n",
       "      <td>0</td>\n",
       "      <td>...</td>\n",
       "      <td>0.0</td>\n",
       "      <td>0.0</td>\n",
       "      <td>0.01</td>\n",
       "      <td>0.0</td>\n",
       "      <td>0.00</td>\n",
       "      <td>0.00</td>\n",
       "      <td>0.01</td>\n",
       "      <td>0.0</td>\n",
       "      <td>0.00</td>\n",
       "      <td>0</td>\n",
       "    </tr>\n",
       "    <tr>\n",
       "      <th>1</th>\n",
       "      <td>9394</td>\n",
       "      <td>58900</td>\n",
       "      <td>7</td>\n",
       "      <td>10.0</td>\n",
       "      <td>5.4286</td>\n",
       "      <td>0</td>\n",
       "      <td>24547.0</td>\n",
       "      <td>NaN</td>\n",
       "      <td>NaN</td>\n",
       "      <td>0</td>\n",
       "      <td>...</td>\n",
       "      <td>0.0</td>\n",
       "      <td>0.0</td>\n",
       "      <td>0.00</td>\n",
       "      <td>0.0</td>\n",
       "      <td>0.00</td>\n",
       "      <td>0.03</td>\n",
       "      <td>0.00</td>\n",
       "      <td>0.0</td>\n",
       "      <td>0.00</td>\n",
       "      <td>0</td>\n",
       "    </tr>\n",
       "    <tr>\n",
       "      <th>2</th>\n",
       "      <td>6680</td>\n",
       "      <td>43100</td>\n",
       "      <td>6</td>\n",
       "      <td>10.0</td>\n",
       "      <td>15.3333</td>\n",
       "      <td>0</td>\n",
       "      <td>6017.0</td>\n",
       "      <td>NaN</td>\n",
       "      <td>NaN</td>\n",
       "      <td>0</td>\n",
       "      <td>...</td>\n",
       "      <td>0.0</td>\n",
       "      <td>0.0</td>\n",
       "      <td>0.00</td>\n",
       "      <td>0.0</td>\n",
       "      <td>0.00</td>\n",
       "      <td>0.22</td>\n",
       "      <td>0.00</td>\n",
       "      <td>0.0</td>\n",
       "      <td>0.02</td>\n",
       "      <td>0</td>\n",
       "    </tr>\n",
       "    <tr>\n",
       "      <th>3</th>\n",
       "      <td>4774</td>\n",
       "      <td>33900</td>\n",
       "      <td>8</td>\n",
       "      <td>4.0</td>\n",
       "      <td>9.6250</td>\n",
       "      <td>0</td>\n",
       "      <td>7316.0</td>\n",
       "      <td>NaN</td>\n",
       "      <td>NaN</td>\n",
       "      <td>0</td>\n",
       "      <td>...</td>\n",
       "      <td>0.0</td>\n",
       "      <td>0.0</td>\n",
       "      <td>0.01</td>\n",
       "      <td>0.0</td>\n",
       "      <td>0.06</td>\n",
       "      <td>0.35</td>\n",
       "      <td>0.00</td>\n",
       "      <td>0.0</td>\n",
       "      <td>0.17</td>\n",
       "      <td>0</td>\n",
       "    </tr>\n",
       "    <tr>\n",
       "      <th>4</th>\n",
       "      <td>2722</td>\n",
       "      <td>37900</td>\n",
       "      <td>9</td>\n",
       "      <td>10.0</td>\n",
       "      <td>14.2222</td>\n",
       "      <td>0</td>\n",
       "      <td>2175.0</td>\n",
       "      <td>10.0</td>\n",
       "      <td>0.0</td>\n",
       "      <td>0</td>\n",
       "      <td>...</td>\n",
       "      <td>0.0</td>\n",
       "      <td>0.0</td>\n",
       "      <td>0.00</td>\n",
       "      <td>0.0</td>\n",
       "      <td>0.04</td>\n",
       "      <td>0.22</td>\n",
       "      <td>0.00</td>\n",
       "      <td>0.0</td>\n",
       "      <td>0.01</td>\n",
       "      <td>0</td>\n",
       "    </tr>\n",
       "  </tbody>\n",
       "</table>\n",
       "<p>5 rows × 39 columns</p>\n",
       "</div>"
      ],
      "text/plain": [
       "   client_id  average_check  number_orders  average_score  items_per_order  \\\n",
       "0        301          49300              7           10.0          23.4286   \n",
       "1       9394          58900              7           10.0           5.4286   \n",
       "2       6680          43100              6           10.0          15.3333   \n",
       "3       4774          33900              8            4.0           9.6250   \n",
       "4       2722          37900              9           10.0          14.2222   \n",
       "\n",
       "   is_friend  last_check  last_score  last_scored_after_order_days  \\\n",
       "0          0      9250.0         NaN                           NaN   \n",
       "1          0     24547.0         NaN                           NaN   \n",
       "2          0      6017.0         NaN                           NaN   \n",
       "3          0      7316.0         NaN                           NaN   \n",
       "4          0      2175.0        10.0                           0.0   \n",
       "\n",
       "   last_late_by_minutes  ...  items_share_category_19  \\\n",
       "0                     0  ...                      0.0   \n",
       "1                     0  ...                      0.0   \n",
       "2                     0  ...                      0.0   \n",
       "3                     0  ...                      0.0   \n",
       "4                     0  ...                      0.0   \n",
       "\n",
       "   items_share_category_20  items_share_category_21  items_share_category_22  \\\n",
       "0                      0.0                     0.01                      0.0   \n",
       "1                      0.0                     0.00                      0.0   \n",
       "2                      0.0                     0.00                      0.0   \n",
       "3                      0.0                     0.01                      0.0   \n",
       "4                      0.0                     0.00                      0.0   \n",
       "\n",
       "   items_share_category_23  items_share_category_24  items_share_category_25  \\\n",
       "0                     0.00                     0.00                     0.01   \n",
       "1                     0.00                     0.03                     0.00   \n",
       "2                     0.00                     0.22                     0.00   \n",
       "3                     0.06                     0.35                     0.00   \n",
       "4                     0.04                     0.22                     0.00   \n",
       "\n",
       "   items_share_category_26  items_share_category_27  is_churn  \n",
       "0                      0.0                     0.00         0  \n",
       "1                      0.0                     0.00         0  \n",
       "2                      0.0                     0.02         0  \n",
       "3                      0.0                     0.17         0  \n",
       "4                      0.0                     0.01         0  \n",
       "\n",
       "[5 rows x 39 columns]"
      ]
     },
     "execution_count": 2,
     "metadata": {},
     "output_type": "execute_result"
    }
   ],
   "source": [
    "train=pd.read_csv('ArbuzTrain.csv')\n",
    "train.head()"
   ]
  },
  {
   "cell_type": "code",
   "execution_count": 3,
   "metadata": {
    "colab": {
     "base_uri": "https://localhost:8080/"
    },
    "id": "p5tz0wr-Q77I",
    "outputId": "f9b306c5-2c12-4eca-b2cb-3c6fec526b4e"
   },
   "outputs": [
    {
     "name": "stdout",
     "output_type": "stream",
     "text": [
      "<class 'pandas.core.frame.DataFrame'>\n",
      "RangeIndex: 10984 entries, 0 to 10983\n",
      "Data columns (total 39 columns):\n",
      " #   Column                        Non-Null Count  Dtype  \n",
      "---  ------                        --------------  -----  \n",
      " 0   client_id                     10984 non-null  int64  \n",
      " 1   average_check                 10984 non-null  int64  \n",
      " 2   number_orders                 10984 non-null  int64  \n",
      " 3   average_score                 9187 non-null   float64\n",
      " 4   items_per_order               10984 non-null  float64\n",
      " 5   is_friend                     10984 non-null  int64  \n",
      " 6   last_check                    10979 non-null  float64\n",
      " 7   last_score                    3788 non-null   float64\n",
      " 8   last_scored_after_order_days  3788 non-null   float64\n",
      " 9   last_late_by_minutes          10984 non-null  int64  \n",
      " 10  is_last_order_fullfilled      10984 non-null  int64  \n",
      " 11  items_share_category_1        10984 non-null  float64\n",
      " 12  items_share_category_2        10984 non-null  float64\n",
      " 13  items_share_category_3        10984 non-null  float64\n",
      " 14  items_share_category_4        10984 non-null  float64\n",
      " 15  items_share_category_5        10984 non-null  float64\n",
      " 16  items_share_category_6        10984 non-null  float64\n",
      " 17  items_share_category_7        10984 non-null  float64\n",
      " 18  items_share_category_8        10984 non-null  float64\n",
      " 19  items_share_category_9        10984 non-null  float64\n",
      " 20  items_share_category_10       10984 non-null  float64\n",
      " 21  items_share_category_11       10984 non-null  float64\n",
      " 22  items_share_category_12       10984 non-null  float64\n",
      " 23  items_share_category_13       10984 non-null  float64\n",
      " 24  items_share_category_14       10984 non-null  float64\n",
      " 25  items_share_category_15       10984 non-null  float64\n",
      " 26  items_share_category_16       10984 non-null  float64\n",
      " 27  items_share_category_17       10984 non-null  float64\n",
      " 28  items_share_category_18       10984 non-null  float64\n",
      " 29  items_share_category_19       10984 non-null  float64\n",
      " 30  items_share_category_20       10984 non-null  float64\n",
      " 31  items_share_category_21       10984 non-null  float64\n",
      " 32  items_share_category_22       10984 non-null  float64\n",
      " 33  items_share_category_23       10984 non-null  float64\n",
      " 34  items_share_category_24       10984 non-null  float64\n",
      " 35  items_share_category_25       10984 non-null  float64\n",
      " 36  items_share_category_26       10984 non-null  float64\n",
      " 37  items_share_category_27       10984 non-null  float64\n",
      " 38  is_churn                      10984 non-null  int64  \n",
      "dtypes: float64(32), int64(7)\n",
      "memory usage: 3.3 MB\n"
     ]
    }
   ],
   "source": [
    "train.info()"
   ]
  },
  {
   "cell_type": "code",
   "execution_count": 4,
   "metadata": {
    "colab": {
     "base_uri": "https://localhost:8080/"
    },
    "id": "5O5iUjodRHUT",
    "outputId": "a0eee56d-bcfe-4fe5-9c21-6a092d90984f"
   },
   "outputs": [
    {
     "data": {
      "text/plain": [
       "client_id                          0\n",
       "average_check                      0\n",
       "number_orders                      0\n",
       "average_score                   1797\n",
       "items_per_order                    0\n",
       "is_friend                          0\n",
       "last_check                         5\n",
       "last_score                      7196\n",
       "last_scored_after_order_days    7196\n",
       "last_late_by_minutes               0\n",
       "is_last_order_fullfilled           0\n",
       "items_share_category_1             0\n",
       "items_share_category_2             0\n",
       "items_share_category_3             0\n",
       "items_share_category_4             0\n",
       "items_share_category_5             0\n",
       "items_share_category_6             0\n",
       "items_share_category_7             0\n",
       "items_share_category_8             0\n",
       "items_share_category_9             0\n",
       "items_share_category_10            0\n",
       "items_share_category_11            0\n",
       "items_share_category_12            0\n",
       "items_share_category_13            0\n",
       "items_share_category_14            0\n",
       "items_share_category_15            0\n",
       "items_share_category_16            0\n",
       "items_share_category_17            0\n",
       "items_share_category_18            0\n",
       "items_share_category_19            0\n",
       "items_share_category_20            0\n",
       "items_share_category_21            0\n",
       "items_share_category_22            0\n",
       "items_share_category_23            0\n",
       "items_share_category_24            0\n",
       "items_share_category_25            0\n",
       "items_share_category_26            0\n",
       "items_share_category_27            0\n",
       "is_churn                           0\n",
       "dtype: int64"
      ]
     },
     "execution_count": 4,
     "metadata": {},
     "output_type": "execute_result"
    }
   ],
   "source": [
    "train.isna().sum()"
   ]
  },
  {
   "cell_type": "code",
   "execution_count": 5,
   "metadata": {
    "colab": {
     "base_uri": "https://localhost:8080/"
    },
    "id": "5gxnKHQSRKUr",
    "outputId": "29dbe074-e72f-4570-f130-3bf784d9cffe"
   },
   "outputs": [
    {
     "data": {
      "text/plain": [
       "(10984, 39)"
      ]
     },
     "execution_count": 5,
     "metadata": {},
     "output_type": "execute_result"
    }
   ],
   "source": [
    "train.shape"
   ]
  },
  {
   "cell_type": "code",
   "execution_count": 6,
   "metadata": {
    "colab": {
     "base_uri": "https://localhost:8080/"
    },
    "id": "3Hk8rvnPsQAx",
    "outputId": "f8eec2f7-e42c-4b06-83bb-bed853b2d922"
   },
   "outputs": [
    {
     "data": {
      "text/plain": [
       "client_id                          0\n",
       "average_check                      0\n",
       "number_orders                      0\n",
       "average_score                   1797\n",
       "items_per_order                    0\n",
       "is_friend                          0\n",
       "last_check                         5\n",
       "last_score                      7196\n",
       "last_scored_after_order_days    7196\n",
       "last_late_by_minutes               0\n",
       "is_last_order_fullfilled           0\n",
       "items_share_category_1             0\n",
       "items_share_category_2             0\n",
       "items_share_category_3             0\n",
       "items_share_category_4             0\n",
       "items_share_category_5             0\n",
       "items_share_category_6             0\n",
       "items_share_category_7             0\n",
       "items_share_category_8             0\n",
       "items_share_category_9             0\n",
       "items_share_category_10            0\n",
       "items_share_category_11            0\n",
       "items_share_category_12            0\n",
       "items_share_category_13            0\n",
       "items_share_category_14            0\n",
       "items_share_category_15            0\n",
       "items_share_category_16            0\n",
       "items_share_category_17            0\n",
       "items_share_category_18            0\n",
       "items_share_category_19            0\n",
       "items_share_category_20            0\n",
       "items_share_category_21            0\n",
       "items_share_category_22            0\n",
       "items_share_category_23            0\n",
       "items_share_category_24            0\n",
       "items_share_category_25            0\n",
       "items_share_category_26            0\n",
       "items_share_category_27            0\n",
       "is_churn                           0\n",
       "dtype: int64"
      ]
     },
     "execution_count": 6,
     "metadata": {},
     "output_type": "execute_result"
    }
   ],
   "source": [
    "train.isna().sum()"
   ]
  },
  {
   "cell_type": "code",
   "execution_count": 7,
   "metadata": {
    "colab": {
     "base_uri": "https://localhost:8080/"
    },
    "id": "bfPiNvE0Acyy",
    "outputId": "a092316b-7ba0-4027-f068-6ffce6f546dc"
   },
   "outputs": [
    {
     "data": {
      "text/plain": [
       "10.0000    4565\n",
       "8.0000      642\n",
       "9.0000      346\n",
       "9.3333      238\n",
       "9.5000      214\n",
       "           ... \n",
       "9.0625        1\n",
       "9.6393        1\n",
       "7.9412        1\n",
       "9.9344        1\n",
       "8.0870        1\n",
       "Name: average_score, Length: 367, dtype: int64"
      ]
     },
     "execution_count": 7,
     "metadata": {},
     "output_type": "execute_result"
    }
   ],
   "source": [
    "train['average_score'].value_counts()"
   ]
  },
  {
   "cell_type": "code",
   "execution_count": 8,
   "metadata": {},
   "outputs": [],
   "source": [
    "train['satisfied']=np.where(train['average_score']>=6, 1, 0)\n",
    "train['Frequent buyer']=np.where(train['number_orders']>=train['number_orders'].max()*0.8, 1, 0)\n",
    "train['Total spendings']=train['number_orders']*train['average_check']\n",
    "train['Average_order_item_price']=train['average_check']/train['items_per_order']\n",
    "train['last_delivery_in_time']=np.where(train['last_late_by_minutes']>0, 0, 1)\n",
    "train['last_order_delivery_level']=train['last_delivery_in_time'] + train['is_last_order_fullfilled']\n",
    "train['Loyality level']=train['satisfied']+train['Frequent buyer']+train['is_friend']+train['last_order_delivery_level']\n",
    "train['last_score']=train['last_score'].fillna(train['average_score'])"
   ]
  },
  {
   "cell_type": "code",
   "execution_count": 9,
   "metadata": {
    "colab": {
     "base_uri": "https://localhost:8080/"
    },
    "id": "k3u9PpuY9vNy",
    "outputId": "e24f2461-06f2-4f48-901a-30d2ce0e654a"
   },
   "outputs": [
    {
     "data": {
      "text/plain": [
       "(10984, 43)"
      ]
     },
     "execution_count": 9,
     "metadata": {},
     "output_type": "execute_result"
    }
   ],
   "source": [
    "x_train=train.loc[:, ~train.columns.isin(['client_id','last_scored_after_order_days','is_churn'])]\n",
    "x_train.shape"
   ]
  },
  {
   "cell_type": "code",
   "execution_count": 10,
   "metadata": {
    "colab": {
     "base_uri": "https://localhost:8080/"
    },
    "id": "mSm3asC9_bfY",
    "outputId": "ccf97310-1477-4886-801b-006c6be591c1"
   },
   "outputs": [
    {
     "data": {
      "text/plain": [
       "(10984, 1)"
      ]
     },
     "execution_count": 10,
     "metadata": {},
     "output_type": "execute_result"
    }
   ],
   "source": [
    "y_train=train.loc[:, train.columns == 'is_churn']\n",
    "y_train.shape"
   ]
  },
  {
   "cell_type": "markdown",
   "metadata": {
    "id": "Ao4n89Y0__ti"
   },
   "source": [
    "#Imputation"
   ]
  },
  {
   "cell_type": "code",
   "execution_count": 11,
   "metadata": {
    "colab": {
     "base_uri": "https://localhost:8080/"
    },
    "id": "EowpfG_dADZY",
    "outputId": "604acb07-4c82-4e52-9fda-3fc99af125fe"
   },
   "outputs": [
    {
     "data": {
      "text/plain": [
       "0"
      ]
     },
     "execution_count": 11,
     "metadata": {},
     "output_type": "execute_result"
    }
   ],
   "source": [
    "from sklearn.impute import KNNImputer\n",
    "imputer = KNNImputer(n_neighbors=3)\n",
    "x_imputed=pd.DataFrame(imputer.fit_transform(x_train),columns=x_train.columns)\n",
    "x_imputed['average_score'].isna().sum()"
   ]
  },
  {
   "cell_type": "markdown",
   "metadata": {
    "id": "ps1aMy-btlMM"
   },
   "source": [
    "#Test"
   ]
  },
  {
   "cell_type": "code",
   "execution_count": 12,
   "metadata": {
    "colab": {
     "base_uri": "https://localhost:8080/",
     "height": 300
    },
    "id": "TSSPPDNdtqry",
    "outputId": "0a6290a3-838d-4bb1-9ded-d2dbafad85af"
   },
   "outputs": [
    {
     "data": {
      "text/html": [
       "<div>\n",
       "<style scoped>\n",
       "    .dataframe tbody tr th:only-of-type {\n",
       "        vertical-align: middle;\n",
       "    }\n",
       "\n",
       "    .dataframe tbody tr th {\n",
       "        vertical-align: top;\n",
       "    }\n",
       "\n",
       "    .dataframe thead th {\n",
       "        text-align: right;\n",
       "    }\n",
       "</style>\n",
       "<table border=\"1\" class=\"dataframe\">\n",
       "  <thead>\n",
       "    <tr style=\"text-align: right;\">\n",
       "      <th></th>\n",
       "      <th>client_id</th>\n",
       "      <th>average_check</th>\n",
       "      <th>number_orders</th>\n",
       "      <th>average_score</th>\n",
       "      <th>items_per_order</th>\n",
       "      <th>is_friend</th>\n",
       "      <th>last_check</th>\n",
       "      <th>last_score</th>\n",
       "      <th>last_scored_after_order_days</th>\n",
       "      <th>last_late_by_minutes</th>\n",
       "      <th>...</th>\n",
       "      <th>items_share_category_18</th>\n",
       "      <th>items_share_category_19</th>\n",
       "      <th>items_share_category_20</th>\n",
       "      <th>items_share_category_21</th>\n",
       "      <th>items_share_category_22</th>\n",
       "      <th>items_share_category_23</th>\n",
       "      <th>items_share_category_24</th>\n",
       "      <th>items_share_category_25</th>\n",
       "      <th>items_share_category_26</th>\n",
       "      <th>items_share_category_27</th>\n",
       "    </tr>\n",
       "  </thead>\n",
       "  <tbody>\n",
       "    <tr>\n",
       "      <th>0</th>\n",
       "      <td>5733</td>\n",
       "      <td>53500</td>\n",
       "      <td>9</td>\n",
       "      <td>10.0000</td>\n",
       "      <td>18.5556</td>\n",
       "      <td>1</td>\n",
       "      <td>9590.0</td>\n",
       "      <td>NaN</td>\n",
       "      <td>NaN</td>\n",
       "      <td>0</td>\n",
       "      <td>...</td>\n",
       "      <td>0.09</td>\n",
       "      <td>0.0</td>\n",
       "      <td>0.0</td>\n",
       "      <td>0.0</td>\n",
       "      <td>0.00</td>\n",
       "      <td>0.01</td>\n",
       "      <td>0.35</td>\n",
       "      <td>0.01</td>\n",
       "      <td>0.00</td>\n",
       "      <td>0.02</td>\n",
       "    </tr>\n",
       "    <tr>\n",
       "      <th>1</th>\n",
       "      <td>1559</td>\n",
       "      <td>41800</td>\n",
       "      <td>31</td>\n",
       "      <td>8.0000</td>\n",
       "      <td>11.3548</td>\n",
       "      <td>0</td>\n",
       "      <td>4839.0</td>\n",
       "      <td>8.0</td>\n",
       "      <td>12.0</td>\n",
       "      <td>0</td>\n",
       "      <td>...</td>\n",
       "      <td>0.06</td>\n",
       "      <td>0.0</td>\n",
       "      <td>0.0</td>\n",
       "      <td>0.0</td>\n",
       "      <td>0.01</td>\n",
       "      <td>0.02</td>\n",
       "      <td>0.38</td>\n",
       "      <td>0.01</td>\n",
       "      <td>0.01</td>\n",
       "      <td>0.03</td>\n",
       "    </tr>\n",
       "    <tr>\n",
       "      <th>2</th>\n",
       "      <td>8709</td>\n",
       "      <td>137900</td>\n",
       "      <td>12</td>\n",
       "      <td>10.0000</td>\n",
       "      <td>31.7500</td>\n",
       "      <td>0</td>\n",
       "      <td>33861.0</td>\n",
       "      <td>10.0</td>\n",
       "      <td>6.0</td>\n",
       "      <td>0</td>\n",
       "      <td>...</td>\n",
       "      <td>0.02</td>\n",
       "      <td>0.0</td>\n",
       "      <td>0.0</td>\n",
       "      <td>0.0</td>\n",
       "      <td>0.00</td>\n",
       "      <td>0.02</td>\n",
       "      <td>0.35</td>\n",
       "      <td>0.09</td>\n",
       "      <td>0.00</td>\n",
       "      <td>0.00</td>\n",
       "    </tr>\n",
       "    <tr>\n",
       "      <th>3</th>\n",
       "      <td>659</td>\n",
       "      <td>26700</td>\n",
       "      <td>27</td>\n",
       "      <td>10.0000</td>\n",
       "      <td>10.7407</td>\n",
       "      <td>0</td>\n",
       "      <td>8130.0</td>\n",
       "      <td>10.0</td>\n",
       "      <td>0.0</td>\n",
       "      <td>0</td>\n",
       "      <td>...</td>\n",
       "      <td>0.14</td>\n",
       "      <td>0.0</td>\n",
       "      <td>0.0</td>\n",
       "      <td>0.0</td>\n",
       "      <td>0.00</td>\n",
       "      <td>0.02</td>\n",
       "      <td>0.08</td>\n",
       "      <td>0.10</td>\n",
       "      <td>0.00</td>\n",
       "      <td>0.04</td>\n",
       "    </tr>\n",
       "    <tr>\n",
       "      <th>4</th>\n",
       "      <td>11662</td>\n",
       "      <td>31900</td>\n",
       "      <td>16</td>\n",
       "      <td>8.7273</td>\n",
       "      <td>8.8750</td>\n",
       "      <td>0</td>\n",
       "      <td>11428.0</td>\n",
       "      <td>10.0</td>\n",
       "      <td>2.0</td>\n",
       "      <td>0</td>\n",
       "      <td>...</td>\n",
       "      <td>0.17</td>\n",
       "      <td>0.0</td>\n",
       "      <td>0.0</td>\n",
       "      <td>0.0</td>\n",
       "      <td>0.00</td>\n",
       "      <td>0.02</td>\n",
       "      <td>0.24</td>\n",
       "      <td>0.01</td>\n",
       "      <td>0.00</td>\n",
       "      <td>0.00</td>\n",
       "    </tr>\n",
       "  </tbody>\n",
       "</table>\n",
       "<p>5 rows × 38 columns</p>\n",
       "</div>"
      ],
      "text/plain": [
       "   client_id  average_check  number_orders  average_score  items_per_order  \\\n",
       "0       5733          53500              9        10.0000          18.5556   \n",
       "1       1559          41800             31         8.0000          11.3548   \n",
       "2       8709         137900             12        10.0000          31.7500   \n",
       "3        659          26700             27        10.0000          10.7407   \n",
       "4      11662          31900             16         8.7273           8.8750   \n",
       "\n",
       "   is_friend  last_check  last_score  last_scored_after_order_days  \\\n",
       "0          1      9590.0         NaN                           NaN   \n",
       "1          0      4839.0         8.0                          12.0   \n",
       "2          0     33861.0        10.0                           6.0   \n",
       "3          0      8130.0        10.0                           0.0   \n",
       "4          0     11428.0        10.0                           2.0   \n",
       "\n",
       "   last_late_by_minutes  ...  items_share_category_18  \\\n",
       "0                     0  ...                     0.09   \n",
       "1                     0  ...                     0.06   \n",
       "2                     0  ...                     0.02   \n",
       "3                     0  ...                     0.14   \n",
       "4                     0  ...                     0.17   \n",
       "\n",
       "   items_share_category_19  items_share_category_20  items_share_category_21  \\\n",
       "0                      0.0                      0.0                      0.0   \n",
       "1                      0.0                      0.0                      0.0   \n",
       "2                      0.0                      0.0                      0.0   \n",
       "3                      0.0                      0.0                      0.0   \n",
       "4                      0.0                      0.0                      0.0   \n",
       "\n",
       "   items_share_category_22  items_share_category_23  items_share_category_24  \\\n",
       "0                     0.00                     0.01                     0.35   \n",
       "1                     0.01                     0.02                     0.38   \n",
       "2                     0.00                     0.02                     0.35   \n",
       "3                     0.00                     0.02                     0.08   \n",
       "4                     0.00                     0.02                     0.24   \n",
       "\n",
       "   items_share_category_25  items_share_category_26  items_share_category_27  \n",
       "0                     0.01                     0.00                     0.02  \n",
       "1                     0.01                     0.01                     0.03  \n",
       "2                     0.09                     0.00                     0.00  \n",
       "3                     0.10                     0.00                     0.04  \n",
       "4                     0.01                     0.00                     0.00  \n",
       "\n",
       "[5 rows x 38 columns]"
      ]
     },
     "execution_count": 12,
     "metadata": {},
     "output_type": "execute_result"
    }
   ],
   "source": [
    "test=pd.read_csv('ArbuzTest.csv')\n",
    "test.head()"
   ]
  },
  {
   "cell_type": "code",
   "execution_count": 13,
   "metadata": {
    "colab": {
     "base_uri": "https://localhost:8080/"
    },
    "id": "uioQYEX-v2rS",
    "outputId": "30b1d235-f803-4515-fdae-41682e658675"
   },
   "outputs": [
    {
     "name": "stdout",
     "output_type": "stream",
     "text": [
      "<class 'pandas.core.frame.DataFrame'>\n",
      "RangeIndex: 2747 entries, 0 to 2746\n",
      "Data columns (total 38 columns):\n",
      " #   Column                        Non-Null Count  Dtype  \n",
      "---  ------                        --------------  -----  \n",
      " 0   client_id                     2747 non-null   int64  \n",
      " 1   average_check                 2747 non-null   int64  \n",
      " 2   number_orders                 2747 non-null   int64  \n",
      " 3   average_score                 2285 non-null   float64\n",
      " 4   items_per_order               2747 non-null   float64\n",
      " 5   is_friend                     2747 non-null   int64  \n",
      " 6   last_check                    2743 non-null   float64\n",
      " 7   last_score                    950 non-null    float64\n",
      " 8   last_scored_after_order_days  950 non-null    float64\n",
      " 9   last_late_by_minutes          2747 non-null   int64  \n",
      " 10  is_last_order_fullfilled      2747 non-null   int64  \n",
      " 11  items_share_category_1        2747 non-null   float64\n",
      " 12  items_share_category_2        2747 non-null   float64\n",
      " 13  items_share_category_3        2747 non-null   float64\n",
      " 14  items_share_category_4        2747 non-null   float64\n",
      " 15  items_share_category_5        2747 non-null   float64\n",
      " 16  items_share_category_6        2747 non-null   float64\n",
      " 17  items_share_category_7        2747 non-null   float64\n",
      " 18  items_share_category_8        2747 non-null   float64\n",
      " 19  items_share_category_9        2747 non-null   float64\n",
      " 20  items_share_category_10       2747 non-null   float64\n",
      " 21  items_share_category_11       2747 non-null   float64\n",
      " 22  items_share_category_12       2747 non-null   float64\n",
      " 23  items_share_category_13       2747 non-null   float64\n",
      " 24  items_share_category_14       2747 non-null   float64\n",
      " 25  items_share_category_15       2747 non-null   float64\n",
      " 26  items_share_category_16       2747 non-null   float64\n",
      " 27  items_share_category_17       2747 non-null   float64\n",
      " 28  items_share_category_18       2747 non-null   float64\n",
      " 29  items_share_category_19       2747 non-null   float64\n",
      " 30  items_share_category_20       2747 non-null   float64\n",
      " 31  items_share_category_21       2747 non-null   float64\n",
      " 32  items_share_category_22       2747 non-null   float64\n",
      " 33  items_share_category_23       2747 non-null   float64\n",
      " 34  items_share_category_24       2747 non-null   float64\n",
      " 35  items_share_category_25       2747 non-null   float64\n",
      " 36  items_share_category_26       2747 non-null   float64\n",
      " 37  items_share_category_27       2747 non-null   float64\n",
      "dtypes: float64(32), int64(6)\n",
      "memory usage: 815.6 KB\n"
     ]
    }
   ],
   "source": [
    "test.info()"
   ]
  },
  {
   "cell_type": "code",
   "execution_count": 14,
   "metadata": {
    "colab": {
     "base_uri": "https://localhost:8080/"
    },
    "id": "ihYxat0Jv7n0",
    "outputId": "5867fa9e-f707-44ac-e448-f131a691eb56"
   },
   "outputs": [
    {
     "data": {
      "text/plain": [
       "client_id                          0\n",
       "average_check                      0\n",
       "number_orders                      0\n",
       "average_score                    462\n",
       "items_per_order                    0\n",
       "is_friend                          0\n",
       "last_check                         4\n",
       "last_score                      1797\n",
       "last_scored_after_order_days    1797\n",
       "last_late_by_minutes               0\n",
       "is_last_order_fullfilled           0\n",
       "items_share_category_1             0\n",
       "items_share_category_2             0\n",
       "items_share_category_3             0\n",
       "items_share_category_4             0\n",
       "items_share_category_5             0\n",
       "items_share_category_6             0\n",
       "items_share_category_7             0\n",
       "items_share_category_8             0\n",
       "items_share_category_9             0\n",
       "items_share_category_10            0\n",
       "items_share_category_11            0\n",
       "items_share_category_12            0\n",
       "items_share_category_13            0\n",
       "items_share_category_14            0\n",
       "items_share_category_15            0\n",
       "items_share_category_16            0\n",
       "items_share_category_17            0\n",
       "items_share_category_18            0\n",
       "items_share_category_19            0\n",
       "items_share_category_20            0\n",
       "items_share_category_21            0\n",
       "items_share_category_22            0\n",
       "items_share_category_23            0\n",
       "items_share_category_24            0\n",
       "items_share_category_25            0\n",
       "items_share_category_26            0\n",
       "items_share_category_27            0\n",
       "dtype: int64"
      ]
     },
     "execution_count": 14,
     "metadata": {},
     "output_type": "execute_result"
    }
   ],
   "source": [
    "test.isna().sum()"
   ]
  },
  {
   "cell_type": "code",
   "execution_count": 15,
   "metadata": {},
   "outputs": [],
   "source": [
    "test['satisfied']=np.where(test['average_score']>=6, 1, 0)\n",
    "test['Frequent buyer']=np.where(test['number_orders']>=test['number_orders'].max()*0.8, 1, 0)\n",
    "test['Total spendings']=test['number_orders']*test['average_check']\n",
    "test['Average_order_item_price']=test['average_check']/test['items_per_order']\n",
    "test['last_delivery_in_time']=np.where(test['last_late_by_minutes']>0, 0, 1)\n",
    "test['last_order_delivery_level']=test['last_delivery_in_time'] + test['is_last_order_fullfilled']\n",
    "test['Loyality level']=test['satisfied']+test['Frequent buyer']+test['is_friend']+test['last_order_delivery_level']\n",
    "test['last_score']=test['last_score'].fillna(test['average_score'])"
   ]
  },
  {
   "cell_type": "code",
   "execution_count": 16,
   "metadata": {
    "colab": {
     "base_uri": "https://localhost:8080/"
    },
    "id": "mKJz1eiKwHCM",
    "outputId": "0fe2f168-35c5-482d-cc0d-efef3bfa8981"
   },
   "outputs": [
    {
     "data": {
      "text/plain": [
       "(2747, 45)"
      ]
     },
     "execution_count": 16,
     "metadata": {},
     "output_type": "execute_result"
    }
   ],
   "source": [
    "test.shape"
   ]
  },
  {
   "cell_type": "code",
   "execution_count": 17,
   "metadata": {
    "colab": {
     "base_uri": "https://localhost:8080/"
    },
    "id": "Ln2JimHYLLZn",
    "outputId": "0647fac7-57ac-43d5-e8e5-8e7de5d79cbb"
   },
   "outputs": [
    {
     "data": {
      "text/plain": [
       "(2747, 43)"
      ]
     },
     "execution_count": 17,
     "metadata": {},
     "output_type": "execute_result"
    }
   ],
   "source": [
    "x_test=test.loc[:, ~test.columns.isin(['client_id','last_scored_after_order_days'])]\n",
    "x_test.shape"
   ]
  },
  {
   "cell_type": "markdown",
   "metadata": {
    "id": "WX20-miHmIQS"
   },
   "source": [
    "#Imputation"
   ]
  },
  {
   "cell_type": "code",
   "execution_count": 18,
   "metadata": {
    "colab": {
     "base_uri": "https://localhost:8080/"
    },
    "id": "OOOBTUYVmHhp",
    "outputId": "d082e8e2-45d5-4f00-8ced-fbb2d55eedae"
   },
   "outputs": [
    {
     "data": {
      "text/plain": [
       "0"
      ]
     },
     "execution_count": 18,
     "metadata": {},
     "output_type": "execute_result"
    }
   ],
   "source": [
    "from sklearn.impute import KNNImputer\n",
    "imputer = KNNImputer(n_neighbors=3)\n",
    "x_test_imputed=pd.DataFrame(imputer.fit_transform(x_test),columns=x_test.columns)\n",
    "x_test_imputed['average_score'].isna().sum()"
   ]
  },
  {
   "cell_type": "markdown",
   "metadata": {
    "id": "zeg7bVCzoK7o"
   },
   "source": [
    "XGBooster"
   ]
  },
  {
   "cell_type": "code",
   "execution_count": 19,
   "metadata": {},
   "outputs": [],
   "source": [
    "from xgboost import XGBClassifier \n",
    "from sklearn.model_selection import GridSearchCV \n",
    "from sklearn.model_selection import StratifiedKFold \n",
    "import matplotlib.pyplot  \n"
   ]
  },
  {
   "cell_type": "code",
   "execution_count": 20,
   "metadata": {},
   "outputs": [
    {
     "name": "stdout",
     "output_type": "stream",
     "text": [
      "Best: -0.500858 using {'n_estimators': 50}\n",
      "-0.500858 (0.010052) with: {'n_estimators': 50}\n",
      "-0.525545 (0.010515) with: {'n_estimators': 100}\n",
      "-0.549160 (0.012739) with: {'n_estimators': 150}\n",
      "-0.570958 (0.015090) with: {'n_estimators': 200}\n",
      "-0.594037 (0.018031) with: {'n_estimators': 250}\n",
      "-0.616693 (0.019157) with: {'n_estimators': 300}\n",
      "-0.639577 (0.020303) with: {'n_estimators': 350}\n",
      "-0.658617 (0.022222) with: {'n_estimators': 400}\n",
      "-0.677864 (0.023525) with: {'n_estimators': 450}\n",
      "-0.695903 (0.026062) with: {'n_estimators': 500}\n",
      "-0.714706 (0.029040) with: {'n_estimators': 550}\n",
      "-0.731159 (0.030102) with: {'n_estimators': 600}\n",
      "-0.746219 (0.031993) with: {'n_estimators': 650}\n",
      "-0.760810 (0.033786) with: {'n_estimators': 700}\n",
      "-0.774792 (0.034533) with: {'n_estimators': 750}\n",
      "-0.786845 (0.035261) with: {'n_estimators': 800}\n",
      "-0.799271 (0.036307) with: {'n_estimators': 850}\n",
      "-0.810899 (0.036814) with: {'n_estimators': 900}\n",
      "-0.820382 (0.037455) with: {'n_estimators': 950}\n"
     ]
    }
   ],
   "source": [
    "model = XGBClassifier() \n",
    "n_estimators = range(50, 1000, 50) \n",
    "param_grid = dict(n_estimators=n_estimators) \n",
    "kfold = StratifiedKFold(n_splits=10, shuffle=True, random_state=7) \n",
    "grid_search = GridSearchCV(model, param_grid, scoring=\"neg_log_loss\", n_jobs=-1, cv=kfold) \n",
    "grid_result = grid_search.fit(x_imputed, y_train) \n",
    " \n",
    "print(\"Best: %f using %s\" % (grid_result.best_score_, grid_result.best_params_)) \n",
    "means = grid_result.cv_results_['mean_test_score'] \n",
    "stds = grid_result.cv_results_['std_test_score'] \n",
    "params = grid_result.cv_results_['params'] \n",
    "for mean, stdev, param in zip(means, stds, params): \n",
    "    print(\"%f (%f) with: %r\" % (mean, stdev, param))"
   ]
  },
  {
   "cell_type": "code",
   "execution_count": 23,
   "metadata": {},
   "outputs": [
    {
     "name": "stdout",
     "output_type": "stream",
     "text": [
      "Best: -0.472234 using {'max_depth': 1}\n",
      "-0.472234 (0.007140) with: {'max_depth': 1}\n",
      "-0.485583 (0.007019) with: {'max_depth': 3}\n",
      "-0.501465 (0.009355) with: {'max_depth': 5}\n",
      "-0.544113 (0.012464) with: {'max_depth': 7}\n",
      "-0.589484 (0.017250) with: {'max_depth': 9}\n",
      "-0.635195 (0.017988) with: {'max_depth': 11}\n",
      "-0.654924 (0.021130) with: {'max_depth': 13}\n",
      "-0.672727 (0.017678) with: {'max_depth': 15}\n",
      "-0.688023 (0.022272) with: {'max_depth': 17}\n",
      "-0.685847 (0.014495) with: {'max_depth': 19}\n",
      "-0.684337 (0.018516) with: {'max_depth': 21}\n",
      "-0.677051 (0.021073) with: {'max_depth': 23}\n",
      "-0.686115 (0.015441) with: {'max_depth': 25}\n",
      "-0.693207 (0.021340) with: {'max_depth': 27}\n",
      "-0.682661 (0.010821) with: {'max_depth': 29}\n"
     ]
    }
   ],
   "source": [
    "model = XGBClassifier() \n",
    "max_depth = range(1, 30, 2) \n",
    "param_grid = dict(max_depth=max_depth) \n",
    "kfold = StratifiedKFold(n_splits=10, shuffle=True, random_state=7) \n",
    "grid_search = GridSearchCV(model, param_grid, scoring=\"neg_log_loss\", n_jobs=-1, cv=kfold) \n",
    "grid_result = grid_search.fit(x_imputed, y_train) \n",
    " \n",
    "print(\"Best: %f using %s\" % (grid_result.best_score_, grid_result.best_params_)) \n",
    "means = grid_result.cv_results_['mean_test_score'] \n",
    "stds = grid_result.cv_results_['std_test_score'] \n",
    "params = grid_result.cv_results_['params'] \n",
    "for mean, stdev, param in zip(means, stds, params): \n",
    "    print(\"%f (%f) with: %r\" % (mean, stdev, param))"
   ]
  },
  {
   "cell_type": "code",
   "execution_count": 31,
   "metadata": {},
   "outputs": [
    {
     "name": "stdout",
     "output_type": "stream",
     "text": [
      "Best: -0.503601 using {'min_child_weight': 19}\n",
      "-0.525545 (0.010515) with: {'min_child_weight': 1}\n",
      "-0.525016 (0.015311) with: {'min_child_weight': 2}\n",
      "-0.520797 (0.012641) with: {'min_child_weight': 3}\n",
      "-0.519924 (0.011820) with: {'min_child_weight': 4}\n",
      "-0.518611 (0.012616) with: {'min_child_weight': 5}\n",
      "-0.516803 (0.015021) with: {'min_child_weight': 6}\n",
      "-0.515345 (0.011643) with: {'min_child_weight': 7}\n",
      "-0.511247 (0.012059) with: {'min_child_weight': 8}\n",
      "-0.514849 (0.007694) with: {'min_child_weight': 9}\n",
      "-0.511823 (0.008882) with: {'min_child_weight': 10}\n",
      "-0.511467 (0.008870) with: {'min_child_weight': 11}\n",
      "-0.509149 (0.012756) with: {'min_child_weight': 12}\n",
      "-0.510868 (0.010913) with: {'min_child_weight': 13}\n",
      "-0.509937 (0.013654) with: {'min_child_weight': 14}\n",
      "-0.510033 (0.013807) with: {'min_child_weight': 15}\n",
      "-0.506980 (0.009107) with: {'min_child_weight': 16}\n",
      "-0.506818 (0.013369) with: {'min_child_weight': 17}\n",
      "-0.507914 (0.009753) with: {'min_child_weight': 18}\n",
      "-0.503601 (0.011061) with: {'min_child_weight': 19}\n"
     ]
    }
   ],
   "source": [
    "model = XGBClassifier() \n",
    "min_child_weight = range(1, 20, 1) \n",
    "param_grid = dict(min_child_weight=min_child_weight) \n",
    "kfold = StratifiedKFold(n_splits=10, shuffle=True, random_state=7) \n",
    "grid_search = GridSearchCV(model, param_grid, scoring=\"neg_log_loss\", n_jobs=-1, cv=kfold) \n",
    "grid_result = grid_search.fit(x_imputed, y_train) \n",
    " \n",
    "print(\"Best: %f using %s\" % (grid_result.best_score_, grid_result.best_params_)) \n",
    "means = grid_result.cv_results_['mean_test_score'] \n",
    "stds = grid_result.cv_results_['std_test_score'] \n",
    "params = grid_result.cv_results_['params'] \n",
    "for mean, stdev, param in zip(means, stds, params): \n",
    "    print(\"%f (%f) with: %r\" % (mean, stdev, param))"
   ]
  },
  {
   "cell_type": "code",
   "execution_count": 32,
   "metadata": {},
   "outputs": [
    {
     "name": "stdout",
     "output_type": "stream",
     "text": [
      "Best: -0.473549 using {'gamma': 11}\n",
      "-0.525545 (0.010515) with: {'gamma': 0}\n",
      "-0.521749 (0.010949) with: {'gamma': 1}\n",
      "-0.505779 (0.015047) with: {'gamma': 2}\n",
      "-0.496137 (0.013528) with: {'gamma': 3}\n",
      "-0.488055 (0.010636) with: {'gamma': 4}\n",
      "-0.484475 (0.012116) with: {'gamma': 5}\n",
      "-0.480388 (0.010080) with: {'gamma': 6}\n",
      "-0.479108 (0.010400) with: {'gamma': 7}\n",
      "-0.475912 (0.008332) with: {'gamma': 8}\n",
      "-0.475140 (0.007026) with: {'gamma': 9}\n",
      "-0.475231 (0.006859) with: {'gamma': 10}\n",
      "-0.473549 (0.006703) with: {'gamma': 11}\n",
      "-0.475561 (0.006593) with: {'gamma': 12}\n",
      "-0.475440 (0.006975) with: {'gamma': 13}\n",
      "-0.475220 (0.006528) with: {'gamma': 14}\n",
      "-0.475054 (0.006789) with: {'gamma': 15}\n",
      "-0.475400 (0.006774) with: {'gamma': 16}\n",
      "-0.475822 (0.006701) with: {'gamma': 17}\n",
      "-0.475745 (0.006905) with: {'gamma': 18}\n",
      "-0.475959 (0.007000) with: {'gamma': 19}\n",
      "-0.476063 (0.006864) with: {'gamma': 20}\n",
      "-0.475818 (0.006754) with: {'gamma': 21}\n",
      "-0.476114 (0.006923) with: {'gamma': 22}\n",
      "-0.476751 (0.006803) with: {'gamma': 23}\n",
      "-0.477060 (0.007013) with: {'gamma': 24}\n",
      "-0.477127 (0.006773) with: {'gamma': 25}\n",
      "-0.477254 (0.006951) with: {'gamma': 26}\n",
      "-0.477432 (0.006745) with: {'gamma': 27}\n",
      "-0.477433 (0.006737) with: {'gamma': 28}\n",
      "-0.477556 (0.006799) with: {'gamma': 29}\n",
      "-0.477446 (0.006867) with: {'gamma': 30}\n",
      "-0.477609 (0.007034) with: {'gamma': 31}\n",
      "-0.477293 (0.006884) with: {'gamma': 32}\n",
      "-0.477488 (0.006875) with: {'gamma': 33}\n",
      "-0.477816 (0.006837) with: {'gamma': 34}\n",
      "-0.477833 (0.006675) with: {'gamma': 35}\n",
      "-0.478405 (0.006753) with: {'gamma': 36}\n",
      "-0.478316 (0.006863) with: {'gamma': 37}\n",
      "-0.478261 (0.006993) with: {'gamma': 38}\n",
      "-0.478391 (0.006917) with: {'gamma': 39}\n"
     ]
    }
   ],
   "source": [
    "model = XGBClassifier() \n",
    "gamma = range(0,40,1) \n",
    "param_grid = dict(gamma=gamma) \n",
    "kfold = StratifiedKFold(n_splits=10, shuffle=True, random_state=7) \n",
    "grid_search = GridSearchCV(model, param_grid, scoring=\"neg_log_loss\", n_jobs=-1, cv=kfold) \n",
    "grid_result = grid_search.fit(x_imputed, y_train) \n",
    " \n",
    "print(\"Best: %f using %s\" % (grid_result.best_score_, grid_result.best_params_)) \n",
    "means = grid_result.cv_results_['mean_test_score'] \n",
    "stds = grid_result.cv_results_['std_test_score'] \n",
    "params = grid_result.cv_results_['params'] \n",
    "for mean, stdev, param in zip(means, stds, params): \n",
    "    print(\"%f (%f) with: %r\" % (mean, stdev, param))"
   ]
  },
  {
   "cell_type": "code",
   "execution_count": 33,
   "metadata": {},
   "outputs": [
    {
     "data": {
      "text/plain": [
       "array([0, 0, 0, ..., 0, 0, 0])"
      ]
     },
     "execution_count": 33,
     "metadata": {},
     "output_type": "execute_result"
    }
   ],
   "source": [
    "from xgboost import XGBClassifier  \n",
    "clas=XGBClassifier(learning_rate=1,  \n",
    " n_estimators=950, \n",
    " max_depth=17,  \n",
    " min_child_weight=2,  \n",
    " gamma=2,  \n",
    " subsample=0.8,  \n",
    " colsample_bytree=0.8,  \n",
    " objective= 'binary:logistic',  \n",
    " scale_pos_weight=1)  \n",
    "clas=clas.fit(x_imputed, y_train)  \n",
    "pred=clas.predict(x_test_imputed)  \n",
    "pred"
   ]
  },
  {
   "cell_type": "code",
   "execution_count": 34,
   "metadata": {},
   "outputs": [
    {
     "data": {
      "text/html": [
       "<div>\n",
       "<style scoped>\n",
       "    .dataframe tbody tr th:only-of-type {\n",
       "        vertical-align: middle;\n",
       "    }\n",
       "\n",
       "    .dataframe tbody tr th {\n",
       "        vertical-align: top;\n",
       "    }\n",
       "\n",
       "    .dataframe thead th {\n",
       "        text-align: right;\n",
       "    }\n",
       "</style>\n",
       "<table border=\"1\" class=\"dataframe\">\n",
       "  <thead>\n",
       "    <tr style=\"text-align: right;\">\n",
       "      <th></th>\n",
       "      <th>client_id</th>\n",
       "      <th>is_churn</th>\n",
       "    </tr>\n",
       "  </thead>\n",
       "  <tbody>\n",
       "    <tr>\n",
       "      <th>0</th>\n",
       "      <td>5733</td>\n",
       "      <td>0</td>\n",
       "    </tr>\n",
       "    <tr>\n",
       "      <th>1</th>\n",
       "      <td>1559</td>\n",
       "      <td>0</td>\n",
       "    </tr>\n",
       "    <tr>\n",
       "      <th>2</th>\n",
       "      <td>8709</td>\n",
       "      <td>0</td>\n",
       "    </tr>\n",
       "    <tr>\n",
       "      <th>3</th>\n",
       "      <td>659</td>\n",
       "      <td>0</td>\n",
       "    </tr>\n",
       "    <tr>\n",
       "      <th>4</th>\n",
       "      <td>11662</td>\n",
       "      <td>0</td>\n",
       "    </tr>\n",
       "    <tr>\n",
       "      <th>...</th>\n",
       "      <td>...</td>\n",
       "      <td>...</td>\n",
       "    </tr>\n",
       "    <tr>\n",
       "      <th>2742</th>\n",
       "      <td>948</td>\n",
       "      <td>0</td>\n",
       "    </tr>\n",
       "    <tr>\n",
       "      <th>2743</th>\n",
       "      <td>6983</td>\n",
       "      <td>1</td>\n",
       "    </tr>\n",
       "    <tr>\n",
       "      <th>2744</th>\n",
       "      <td>8864</td>\n",
       "      <td>0</td>\n",
       "    </tr>\n",
       "    <tr>\n",
       "      <th>2745</th>\n",
       "      <td>8877</td>\n",
       "      <td>0</td>\n",
       "    </tr>\n",
       "    <tr>\n",
       "      <th>2746</th>\n",
       "      <td>13633</td>\n",
       "      <td>0</td>\n",
       "    </tr>\n",
       "  </tbody>\n",
       "</table>\n",
       "<p>2747 rows × 2 columns</p>\n",
       "</div>"
      ],
      "text/plain": [
       "      client_id  is_churn\n",
       "0          5733         0\n",
       "1          1559         0\n",
       "2          8709         0\n",
       "3           659         0\n",
       "4         11662         0\n",
       "...         ...       ...\n",
       "2742        948         0\n",
       "2743       6983         1\n",
       "2744       8864         0\n",
       "2745       8877         0\n",
       "2746      13633         0\n",
       "\n",
       "[2747 rows x 2 columns]"
      ]
     },
     "execution_count": 34,
     "metadata": {},
     "output_type": "execute_result"
    }
   ],
   "source": [
    "client_id=test['client_id']\n",
    "np.array(client_id)\n",
    "result=pd.DataFrame({'client_id':client_id,'is_churn':pred})\n",
    "result"
   ]
  },
  {
   "cell_type": "code",
   "execution_count": 38,
   "metadata": {},
   "outputs": [
    {
     "data": {
      "text/plain": [
       "0    2214\n",
       "1     533\n",
       "Name: is_churn, dtype: int64"
      ]
     },
     "execution_count": 38,
     "metadata": {},
     "output_type": "execute_result"
    }
   ],
   "source": [
    "result['is_churn'].value_counts()"
   ]
  },
  {
   "cell_type": "code",
   "execution_count": 39,
   "metadata": {},
   "outputs": [],
   "source": [
    "result.to_csv('result_xg_final.csv', index=False)"
   ]
  },
  {
   "cell_type": "code",
   "execution_count": null,
   "metadata": {},
   "outputs": [],
   "source": []
  },
  {
   "cell_type": "code",
   "execution_count": null,
   "metadata": {},
   "outputs": [],
   "source": []
  }
 ],
 "metadata": {
  "colab": {
   "provenance": []
  },
  "kernelspec": {
   "display_name": "Python 3 (ipykernel)",
   "language": "python",
   "name": "python3"
  },
  "language_info": {
   "codemirror_mode": {
    "name": "ipython",
    "version": 3
   },
   "file_extension": ".py",
   "mimetype": "text/x-python",
   "name": "python",
   "nbconvert_exporter": "python",
   "pygments_lexer": "ipython3",
   "version": "3.9.13"
  }
 },
 "nbformat": 4,
 "nbformat_minor": 1
}
